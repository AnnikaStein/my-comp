{
 "cells": [
  {
   "cell_type": "markdown",
   "id": "ede2f694-01ad-4a8a-9f2e-b1e7c6fbb069",
   "metadata": {},
   "source": [
    "# Learning to fill html and js with python for Dummies"
   ]
  },
  {
   "cell_type": "code",
   "execution_count": null,
   "id": "93b12761-30c7-4b71-b53b-87425030fe99",
   "metadata": {},
   "outputs": [],
   "source": [
    "# There's a tool that lets us write html in a pythonic way :o so smooth\n",
    "import dominate\n",
    "from dominate.util import raw\n",
    "from dominate.tags import *"
   ]
  },
  {
   "cell_type": "markdown",
   "id": "e9604ae5-2483-409d-af28-1d57e5c18223",
   "metadata": {},
   "source": [
    "Massive copy-paste from existing code to grab comps, slightly modded because at the time of writing, the list would be pretty empty"
   ]
  },
  {
   "cell_type": "code",
   "execution_count": null,
   "id": "8e720ab5-1ebf-4e20-ba92-c616d42060ee",
   "metadata": {
    "scrolled": true,
    "tags": []
   },
   "outputs": [],
   "source": [
    "# get remote files with urls\n",
    "import urllib.request as libreq\n",
    "# tool to read in the response as json\n",
    "import json\n",
    "\n",
    "# unofficial api, example returns all competitions in a given country\n",
    "with libreq.urlopen('https://raw.githubusercontent.com/robiningelbrecht/wca-rest-api/master/api/competitions/DE.json') as file:\n",
    "    # the file is understood as json\n",
    "    json_data = json.load(file)\n",
    "\n",
    "# want to know starting and end times, and want to perform some calls once a week to populate my landing page\n",
    "import datetime\n",
    "# when the script runs\n",
    "now = datetime.datetime.now()\n",
    "# up until a week from now\n",
    "d = datetime.timedelta(days=28)\n",
    "oneweek_from_now = now + d\n",
    "\n",
    "# formatting into something close to js syntax for UTC time\n",
    "today = now.strftime(\"%Y-%m-%d\")\n",
    "oneweek_from_today = oneweek_from_now.strftime(\"%Y-%m-%d\")\n",
    "print(today)\n",
    "print(oneweek_from_today)\n",
    "\n",
    "# assume this script runs, say every Tuesday.\n",
    "# and this will hold the relevant information per compid\n",
    "upcoming_comp_info = []\n",
    "# nested json, get the actual items and loop over them\n",
    "for k in json_data['items']:\n",
    "    # only those within one week from now\n",
    "    if k['date']['from'] >= today and k['date']['from'] < oneweek_from_today:\n",
    "        print(k)\n",
    "        compid = k['id']\n",
    "        # for every compid, there is the wcif with further info,\n",
    "        # parse this as well (inside the loop for every comp that fulfils the criteria)\n",
    "        with libreq.urlopen(f'https://worldcubeassociation.org/api/v0/competitions/{compid}/wcif/public') as wcif:\n",
    "            comp_data = json.load(wcif)\n",
    "\n",
    "        # walking through the nested json, pick first item wherever possible to not overcomplicate things\n",
    "        # grab the earliest activity to determine from when to show the corresponding div (UTC)\n",
    "        starts = min([a['startTime'] for a in comp_data['schedule']['venues'][0]['rooms'][0]['activities']]).split('T')[1][:-1]\n",
    "        # grab the latest activity to determine until when to show the corresponding div (UTC)\n",
    "        ends = max([a['endTime'] for a in comp_data['schedule']['venues'][0]['rooms'][0]['activities']]).split('T')[1][:-1]\n",
    "\n",
    "        # collect everything into a 2d list, one sublist per comp\n",
    "        upcoming_comp_info.append([compid,\n",
    "                                   k['date']['from'],\n",
    "                                   k['date']['till'],\n",
    "                                   starts,\n",
    "                                   ends,\n",
    "                                   k['venue']['coordinates']['latitude'],\n",
    "                                   k['venue']['coordinates']['longitude']])\n",
    "\n",
    "# now we know the IDs of comps taking place the upcoming weekend, and relevant info to steer the UI\n",
    "print(upcoming_comp_info)\n",
    "\n",
    "if len(upcoming_comp_info) > 1:\n",
    "    print('Multi-Comp Weekend!')\n"
   ]
  },
  {
   "cell_type": "code",
   "execution_count": null,
   "id": "627d320f-8b62-44ce-86b4-235df84f068d",
   "metadata": {},
   "outputs": [],
   "source": [
    "upcoming_comp_info"
   ]
  },
  {
   "cell_type": "code",
   "execution_count": null,
   "id": "10ec27b9-f2bb-4249-afd5-7e2a4bb4d240",
   "metadata": {},
   "outputs": [],
   "source": [
    "doc = dominate.document(title='My Comp')\n",
    "\n",
    "with doc.head:\n",
    "    meta(charset='utf-8')\n",
    "    meta(name='viewport', content='width=device-width, initial-scale=1')\n",
    "    link(rel='stylesheet', href='https://www.w3schools.com/w3css/4/w3.css')\n",
    "    link(rel='stylesheet', href='https://www.w3schools.com/lib/w3-theme-light-blue.css')\n",
    "    link(rel='stylesheet', href='css/style.css')\n",
    "    link(rel='stylesheet', href='https://cdnjs.cloudflare.com/ajax/libs/font-awesome/6.4.2/css/all.min.css')\n",
    "\n",
    "with doc:\n",
    "    \n",
    "    #######\n",
    "    # TODO\n",
    "    # actually write smart stuff to use upcoming_comp_info here to fill the page\n",
    "    # for now just testing the library\n",
    "    with div(id='header').add(ol()):\n",
    "        for i in ['home', 'about', 'contact']:\n",
    "            li(a(i.title(), href='/%s.html' % i))\n",
    "\n",
    "    with div():\n",
    "        attr(cls='body')\n",
    "        p('Lorem ipsum..')\n",
    "\n",
    "        \n",
    "        \n",
    "    #######    \n",
    "    script(src='js/script.js')    \n",
    "    script(data_id='101446349', _async=True, src='//static.getclicky.com/js')\n",
    "    \n",
    "print(doc.render())"
   ]
  },
  {
   "cell_type": "code",
   "execution_count": null,
   "id": "ae4da9ad-c5e0-40ce-b2da-ea08abf356d5",
   "metadata": {},
   "outputs": [],
   "source": [
    "with open(\"Output.html\", \"w\") as text_file:\n",
    "    print(doc, file=text_file)"
   ]
  },
  {
   "cell_type": "code",
   "execution_count": null,
   "id": "fcf0058d-f410-4dfd-958f-97f174811098",
   "metadata": {},
   "outputs": [],
   "source": []
  }
 ],
 "metadata": {
  "kernelspec": {
   "display_name": "Python 3",
   "language": "python",
   "name": "python3"
  },
  "language_info": {
   "codemirror_mode": {
    "name": "ipython",
    "version": 3
   },
   "file_extension": ".py",
   "mimetype": "text/x-python",
   "name": "python",
   "nbconvert_exporter": "python",
   "pygments_lexer": "ipython3",
   "version": "3.9.12"
  }
 },
 "nbformat": 4,
 "nbformat_minor": 5
}
